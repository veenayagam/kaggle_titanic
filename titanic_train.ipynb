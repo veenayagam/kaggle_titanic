{
 "cells": [
  {
   "cell_type": "code",
   "execution_count": 16,
   "id": "8fdffc9d-5428-42fd-b067-48a70d0a4592",
   "metadata": {},
   "outputs": [],
   "source": [
    "import pandas as pd\n",
    "import numpy as np\n",
    "import plotly.express as px\n",
    "from sklearn.preprocessing import StandardScaler"
   ]
  },
  {
   "cell_type": "code",
   "execution_count": 17,
   "id": "8dd868f3-d19e-468a-aad4-c31bf8435a4a",
   "metadata": {},
   "outputs": [],
   "source": [
    "df = pd.read_csv(\"titanic_train.csv\")\n",
    "df1 = df.copy()"
   ]
  },
  {
   "cell_type": "code",
   "execution_count": 18,
   "id": "455964eb-2204-47d7-8290-4449aa8a09a0",
   "metadata": {},
   "outputs": [],
   "source": [
    "#Remove unrelavant features which was PassengerId, Name, Ticket"
   ]
  },
  {
   "cell_type": "code",
   "execution_count": 19,
   "id": "5fad72ea-d1c1-4f38-b901-a884429b51f0",
   "metadata": {},
   "outputs": [],
   "source": [
    "# MITO CODE START (DO NOT EDIT)\n",
    "\n",
    "from mitosheet import * # Import necessary functions from Mito\n",
    "register_analysis('UUID-f2afbffe-1cf5-4f50-bb36-4e51008b297e') # Let Mito know which analysis is being run\n",
    "\n",
    "# Deleted column PassengerId from df1\n",
    "df1.drop('PassengerId', axis=1, inplace=True)\n",
    "\n",
    "# Deleted column Name from df1\n",
    "df1.drop('Name', axis=1, inplace=True)\n",
    "\n",
    "# Deleted column Ticket from df1\n",
    "df1.drop('Ticket', axis=1, inplace=True)\n",
    "\n",
    "# Duplicated df1 to df1_copy\n",
    "df1_copy = df1.copy(deep=True)\n",
    "\n",
    "# Renamed df1_copy to df2\n",
    "df2 = df1_copy\n",
    "\n",
    "  \n",
    "# MITO CODE END (DO NOT EDIT)"
   ]
  },
  {
   "cell_type": "code",
   "execution_count": 20,
   "id": "ae360272-a569-4f25-8cb2-6d94dc56c1c2",
   "metadata": {},
   "outputs": [],
   "source": [
    "# Handle Missing value\n",
    "# Removed Cabin column because it has 77.10% missing values\n",
    "# Dropped two missing values for Embarked\n",
    "# Make Age higher than 0"
   ]
  },
  {
   "cell_type": "code",
   "execution_count": 21,
   "id": "bd14a723-bd81-4c5d-93ae-60fd8892ad9e",
   "metadata": {},
   "outputs": [],
   "source": [
    "# MITO CODE START (DO NOT EDIT)\n",
    "\n",
    "from mitosheet import * # Import necessary functions from Mito\n",
    "register_analysis('UUID-91eba5e7-c98f-4873-97e1-968d98b2cec9') # Let Mito know which analysis is being run\n",
    "\n",
    "# Deleted column Cabin from df2\n",
    "df2.drop('Cabin', axis=1, inplace=True)\n",
    "\n",
    "# Filtered Embarked in df2\n",
    "df2 = df2[df2.Embarked.notnull()]\n",
    "\n",
    "# Filtered Age in df2\n",
    "df2 = df2[df2['Age'] >= 0]\n",
    "\n",
    "# Duplicated df2 to df2_copy\n",
    "df2_copy = df2.copy(deep=True)\n",
    "\n",
    "# Renamed df2_copy to df3\n",
    "df3 = df2_copy\n",
    "\n",
    "  \n",
    "# MITO CODE END (DO NOT EDIT)"
   ]
  },
  {
   "cell_type": "code",
   "execution_count": 22,
   "id": "58f51889-74f4-4ff7-b32e-177c9cd75572",
   "metadata": {},
   "outputs": [
    {
     "data": {
      "text/html": [
       "<iframe\n",
       "    scrolling=\"no\"\n",
       "    width=\"100%\"\n",
       "    height=\"545px\"\n",
       "    src=\"iframe_figures/figure_22.html\"\n",
       "    frameborder=\"0\"\n",
       "    allowfullscreen\n",
       "></iframe>\n"
      ]
     },
     "metadata": {},
     "output_type": "display_data"
    }
   ],
   "source": [
    "# For fare data, it seems the value is right skewed\n",
    "# We will proceed with log tranformation\n",
    "# Import plotly and create a figure\n",
    "import plotly.graph_objects as go\n",
    "fig = go.Figure()\n",
    "\n",
    "\n",
    "# Add the histogram traces to the figure\n",
    "for column_header in ['Fare']:\n",
    "    fig.add_trace(go.Histogram(x=df1[column_header], name=column_header))\n",
    "\n",
    "# Update the layout\n",
    "# See Plotly documentation for customizations: https://plotly.com/python/reference/histogram/\n",
    "fig.update_layout(\n",
    "\txaxis_title='Fare',\n",
    "    title='Fare frequencies',\n",
    "    barmode='group'\n",
    ")\n",
    "fig.show(renderer=\"iframe\")"
   ]
  },
  {
   "cell_type": "code",
   "execution_count": 23,
   "id": "8cd66c85-8663-404f-ae29-130c006c3b6f",
   "metadata": {},
   "outputs": [
    {
     "name": "stderr",
     "output_type": "stream",
     "text": [
      "C:\\Users\\Darknman\\anaconda3\\lib\\site-packages\\pandas\\core\\arraylike.py:364: RuntimeWarning:\n",
      "\n",
      "divide by zero encountered in log\n",
      "\n"
     ]
    }
   ],
   "source": [
    "df3[\"Fare_log\"] = np.log(df3['Fare'])"
   ]
  },
  {
   "cell_type": "code",
   "execution_count": 24,
   "id": "6da43d16-f1b4-457c-b5de-b52bdbd021d3",
   "metadata": {},
   "outputs": [
    {
     "data": {
      "text/html": [
       "<iframe\n",
       "    scrolling=\"no\"\n",
       "    width=\"100%\"\n",
       "    height=\"545px\"\n",
       "    src=\"iframe_figures/figure_24.html\"\n",
       "    frameborder=\"0\"\n",
       "    allowfullscreen\n",
       "></iframe>\n"
      ]
     },
     "metadata": {},
     "output_type": "display_data"
    }
   ],
   "source": [
    "# Based on below boxplot, after used log transformation there are still a few outliners in Fare_log\n",
    "# Import plotly and create a figure\n",
    "import plotly.graph_objects as go\n",
    "fig = go.Figure()\n",
    "\n",
    "\n",
    "# Add box plots to the graph\n",
    "for column_header in ['Fare_log']:\n",
    "    fig.add_trace(go.Box(x=df3[column_header], name=column_header))\n",
    "\n",
    "# Update the title and stacking mode of the graph\n",
    "# See Plotly documentation for customizations: https://plotly.com/python/reference/box/\n",
    "fig.update_layout(\n",
    "    title='Fare_log box plot',\n",
    "    barmode='stack'\n",
    ")\n",
    "fig.show(renderer=\"iframe\")"
   ]
  },
  {
   "cell_type": "code",
   "execution_count": 25,
   "id": "d7c56d33-83ca-463e-a25c-03777a2d144d",
   "metadata": {},
   "outputs": [],
   "source": [
    "# Proceed remove outliners and non numerical values in Fare_log\n",
    "df3[\"Fare_log\"].replace([np.inf, -np.inf], np.nan, inplace=True)\n",
    "df3 = df3[df3.Fare_log.notnull()]\n",
    "df3 = df3[df3['Fare_log'] != 6.238967387173662]\n",
    "df4 = df3.copy()"
   ]
  },
  {
   "cell_type": "code",
   "execution_count": 26,
   "id": "fad35817-a8ff-4c91-8e48-835052fdc522",
   "metadata": {},
   "outputs": [
    {
     "data": {
      "text/html": [
       "<div><div id=12169bfc-1af8-48b6-a901-6fa800838f41 style=\"display:none; background-color:#9D6CFF; color:white; width:200px; height:30px; padding-left:5px; border-radius:4px; flex-direction:row; justify-content:space-around; align-items:center;\" onmouseover=\"this.style.backgroundColor='#BA9BF8'\" onmouseout=\"this.style.backgroundColor='#9D6CFF'\" onclick=\"window.commands?.execute('create-mitosheet-from-dataframe-output');\">See Full Dataframe in Mito</div> <script> if (window.commands.hasCommand('create-mitosheet-from-dataframe-output')) document.getElementById('12169bfc-1af8-48b6-a901-6fa800838f41').style.display = 'flex' </script> <table border=\"1\" class=\"dataframe\">\n",
       "  <thead>\n",
       "    <tr style=\"text-align: right;\">\n",
       "      <th></th>\n",
       "      <th>Survived</th>\n",
       "      <th>Pclass</th>\n",
       "      <th>Sex</th>\n",
       "      <th>Age</th>\n",
       "      <th>SibSp</th>\n",
       "      <th>Parch</th>\n",
       "      <th>Fare</th>\n",
       "      <th>Embarked</th>\n",
       "      <th>Fare_log</th>\n",
       "    </tr>\n",
       "  </thead>\n",
       "  <tbody>\n",
       "    <tr>\n",
       "      <th>0</th>\n",
       "      <td>0</td>\n",
       "      <td>3</td>\n",
       "      <td>male</td>\n",
       "      <td>22.0</td>\n",
       "      <td>1</td>\n",
       "      <td>0</td>\n",
       "      <td>7.2500</td>\n",
       "      <td>S</td>\n",
       "      <td>1.981001</td>\n",
       "    </tr>\n",
       "    <tr>\n",
       "      <th>1</th>\n",
       "      <td>1</td>\n",
       "      <td>1</td>\n",
       "      <td>female</td>\n",
       "      <td>38.0</td>\n",
       "      <td>1</td>\n",
       "      <td>0</td>\n",
       "      <td>71.2833</td>\n",
       "      <td>C</td>\n",
       "      <td>4.266662</td>\n",
       "    </tr>\n",
       "    <tr>\n",
       "      <th>2</th>\n",
       "      <td>1</td>\n",
       "      <td>3</td>\n",
       "      <td>female</td>\n",
       "      <td>26.0</td>\n",
       "      <td>0</td>\n",
       "      <td>0</td>\n",
       "      <td>7.9250</td>\n",
       "      <td>S</td>\n",
       "      <td>2.070022</td>\n",
       "    </tr>\n",
       "    <tr>\n",
       "      <th>3</th>\n",
       "      <td>1</td>\n",
       "      <td>1</td>\n",
       "      <td>female</td>\n",
       "      <td>35.0</td>\n",
       "      <td>1</td>\n",
       "      <td>0</td>\n",
       "      <td>53.1000</td>\n",
       "      <td>S</td>\n",
       "      <td>3.972177</td>\n",
       "    </tr>\n",
       "    <tr>\n",
       "      <th>4</th>\n",
       "      <td>0</td>\n",
       "      <td>3</td>\n",
       "      <td>male</td>\n",
       "      <td>35.0</td>\n",
       "      <td>0</td>\n",
       "      <td>0</td>\n",
       "      <td>8.0500</td>\n",
       "      <td>S</td>\n",
       "      <td>2.085672</td>\n",
       "    </tr>\n",
       "  </tbody>\n",
       "</table></div>"
      ],
      "text/plain": [
       "   Survived  Pclass     Sex   Age  SibSp  Parch     Fare Embarked  Fare_log\n",
       "0         0       3    male  22.0      1      0   7.2500        S  1.981001\n",
       "1         1       1  female  38.0      1      0  71.2833        C  4.266662\n",
       "2         1       3  female  26.0      0      0   7.9250        S  2.070022\n",
       "3         1       1  female  35.0      1      0  53.1000        S  3.972177\n",
       "4         0       3    male  35.0      0      0   8.0500        S  2.085672"
      ]
     },
     "execution_count": 26,
     "metadata": {},
     "output_type": "execute_result"
    }
   ],
   "source": [
    "df4.head()"
   ]
  },
  {
   "cell_type": "code",
   "execution_count": 27,
   "id": "772ec64f-29fa-4dd3-a50c-d0613bd1f0a7",
   "metadata": {},
   "outputs": [
    {
     "name": "stdout",
     "output_type": "stream",
     "text": [
      "Empty DataFrame\n",
      "Columns: [Survived, Pclass, Sex, Age, SibSp, Parch, Fare, Embarked, Fare_log]\n",
      "Index: []\n",
      "Empty DataFrame\n",
      "Columns: [Survived, Pclass, Sex, Age, SibSp, Parch, Fare, Embarked, Fare_log]\n",
      "Index: []\n",
      "Empty DataFrame\n",
      "Columns: [Survived, Pclass, Sex, Age, SibSp, Parch, Fare, Embarked, Fare_log]\n",
      "Index: []\n",
      "Empty DataFrame\n",
      "Columns: [Survived, Pclass, Sex, Age, SibSp, Parch, Fare, Embarked, Fare_log]\n",
      "Index: []\n",
      "Empty DataFrame\n",
      "Columns: [Survived, Pclass, Sex, Age, SibSp, Parch, Fare, Embarked, Fare_log]\n",
      "Index: []\n",
      "Empty DataFrame\n",
      "Columns: [Survived, Pclass, Sex, Age, SibSp, Parch, Fare, Embarked, Fare_log]\n",
      "Index: []\n",
      "Empty DataFrame\n",
      "Columns: [Survived, Pclass, Sex, Age, SibSp, Parch, Fare, Embarked, Fare_log]\n",
      "Index: []\n",
      "Empty DataFrame\n",
      "Columns: [Survived, Pclass, Sex, Age, SibSp, Parch, Fare, Embarked, Fare_log]\n",
      "Index: []\n",
      "Empty DataFrame\n",
      "Columns: [Survived, Pclass, Sex, Age, SibSp, Parch, Fare, Embarked, Fare_log]\n",
      "Index: []\n"
     ]
    }
   ],
   "source": [
    "#Check if all columns data are in right datatype\n",
    "print(df4[df4['Survived'].apply(lambda x: type(x) == str)])\n",
    "print(df4[df4['Pclass'].apply(lambda x: type(x) == str)])\n",
    "print(df4[df4['Sex'].apply(lambda x: type(x) != str)])\n",
    "print(df4[df4['Age'].apply(lambda x: type(x) == str)])\n",
    "print(df4[df4['SibSp'].apply(lambda x: type(x) == str)])\n",
    "print(df4[df4['Parch'].apply(lambda x: type(x) == str)])\n",
    "print(df4[df4['Fare'].apply(lambda x: type(x) == str)])\n",
    "print(df4[df4['Embarked'].apply(lambda x: type(x) != str)])\n",
    "print(df4[df4['Fare_log'].apply(lambda x: type(x) == str)])"
   ]
  },
  {
   "cell_type": "code",
   "execution_count": 28,
   "id": "e3797863-fc6a-460f-9d36-ba0f505a6ec3",
   "metadata": {},
   "outputs": [],
   "source": [
    "# Convert categorical variables to numerical variables\n",
    "#  Ordinal Encoding (Retain all orders)\n",
    "from sklearn.preprocessing import OrdinalEncoder\n",
    "enc = OrdinalEncoder()\n",
    "enc.fit(df4[[\"Sex\",\"Embarked\"]])\n",
    "df4[[\"Sex\",\"Embarked\"]] = enc.transform(df4[[\"Sex\",\"Embarked\"]])"
   ]
  },
  {
   "cell_type": "code",
   "execution_count": 29,
   "id": "ea28c852-8e03-4a67-8976-0d55e86ea34a",
   "metadata": {},
   "outputs": [],
   "source": [
    "# Save the csv file\n",
    "df4.to_csv('titanic_train_fe.csv', index=False)"
   ]
  }
 ],
 "metadata": {
  "kernelspec": {
   "display_name": "Python 3 (ipykernel)",
   "language": "python",
   "name": "python3"
  },
  "language_info": {
   "codemirror_mode": {
    "name": "ipython",
    "version": 3
   },
   "file_extension": ".py",
   "mimetype": "text/x-python",
   "name": "python",
   "nbconvert_exporter": "python",
   "pygments_lexer": "ipython3",
   "version": "3.8.11"
  }
 },
 "nbformat": 4,
 "nbformat_minor": 5
}
