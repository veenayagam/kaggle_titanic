{
 "cells": [
  {
   "cell_type": "code",
   "execution_count": 7,
   "id": "8fdffc9d-5428-42fd-b067-48a70d0a4592",
   "metadata": {},
   "outputs": [],
   "source": [
    "import pandas as pd\n",
    "import numpy as np\n",
    "import plotly.express as px\n",
    "from sklearn.preprocessing import OrdinalEncoder"
   ]
  },
  {
   "cell_type": "code",
   "execution_count": 8,
   "id": "8dd868f3-d19e-468a-aad4-c31bf8435a4a",
   "metadata": {},
   "outputs": [],
   "source": [
    "df = pd.read_csv(\"titanic_test.csv\")\n",
    "df1 = df.copy()"
   ]
  },
  {
   "cell_type": "code",
   "execution_count": 9,
   "id": "455964eb-2204-47d7-8290-4449aa8a09a0",
   "metadata": {},
   "outputs": [],
   "source": [
    "# Remove unrelavant features which was Name, Ticket\n",
    "# We did not drop PassengerId because it will be used for submitting to Kaggle\n",
    "# But we will not be using this column during prediction"
   ]
  },
  {
   "cell_type": "code",
   "execution_count": 10,
   "id": "9f8aade5-9a8f-49f5-a6e6-bb10291c18fd",
   "metadata": {},
   "outputs": [],
   "source": [
    "# MITO CODE START (DO NOT EDIT)\n",
    "\n",
    "from mitosheet import * # Import necessary functions from Mito\n",
    "register_analysis('UUID-789d9aa1-2e68-4878-bab2-d9ba16ba66d1') # Let Mito know which analysis is being run\n",
    "\n",
    "# Deleted column Name from df1\n",
    "df1.drop('Name', axis=1, inplace=True)\n",
    "\n",
    "# Deleted column Ticket from df1\n",
    "df1.drop('Ticket', axis=1, inplace=True)\n",
    "\n",
    "# Duplicated df1 to df1_copy\n",
    "df1_copy = df1.copy(deep=True)\n",
    "\n",
    "# Renamed df1_copy to df2\n",
    "df2 = df1_copy\n",
    "\n",
    "  \n",
    "# MITO CODE END (DO NOT EDIT)"
   ]
  },
  {
   "cell_type": "code",
   "execution_count": 11,
   "id": "ae360272-a569-4f25-8cb2-6d94dc56c1c2",
   "metadata": {},
   "outputs": [],
   "source": [
    "# Handle Missing value\n",
    "# Removed Cabin column because it has high missing values"
   ]
  },
  {
   "cell_type": "code",
   "execution_count": 12,
   "id": "a5cd55be-4879-45fa-8c7f-2e7bdd2422ff",
   "metadata": {},
   "outputs": [],
   "source": [
    "# MITO CODE START (DO NOT EDIT)\n",
    "\n",
    "from mitosheet import * # Import necessary functions from Mito\n",
    "register_analysis('UUID-8ea50312-ce9f-4c4f-88eb-bc63dfb9b975') # Let Mito know which analysis is being run\n",
    "\n",
    "# Deleted column Cabin from df2\n",
    "df2.drop('Cabin', axis=1, inplace=True)\n",
    "\n",
    "# Duplicated df2 to df2_copy\n",
    "df2_copy = df2.copy(deep=True)\n",
    "\n",
    "# Renamed df2_copy to df3\n",
    "df3 = df2_copy\n",
    "\n",
    "  \n",
    "# MITO CODE END (DO NOT EDIT)"
   ]
  },
  {
   "cell_type": "code",
   "execution_count": 13,
   "id": "b2534bec-df30-41e0-a665-01ca7e5c6808",
   "metadata": {},
   "outputs": [],
   "source": [
    "# Fill one null value from Fare with medium\n",
    "df3[\"Fare\"].fillna(df3[\"Fare\"].median(), inplace=True)"
   ]
  },
  {
   "cell_type": "code",
   "execution_count": 17,
   "id": "5b078f03-44d8-44ab-ac68-cc181f36501c",
   "metadata": {},
   "outputs": [],
   "source": [
    "# Age seems have 20.57% null values (Fill values with median because there are a few outliners)\n",
    "df3[\"Age\"].fillna(df3[\"Age\"].median(), inplace=True)"
   ]
  },
  {
   "cell_type": "code",
   "execution_count": 18,
   "id": "965b3da4-46aa-42aa-9d1b-38d6375b4ff4",
   "metadata": {},
   "outputs": [
    {
     "data": {
      "text/html": [
       "<div><div id=145f491c-4509-4720-9ae9-c169dee90335 style=\"display:none; background-color:#9D6CFF; color:white; width:200px; height:30px; padding-left:5px; border-radius:4px; flex-direction:row; justify-content:space-around; align-items:center;\" onmouseover=\"this.style.backgroundColor='#BA9BF8'\" onmouseout=\"this.style.backgroundColor='#9D6CFF'\" onclick=\"window.commands?.execute('create-mitosheet-from-dataframe-output');\">See Full Dataframe in Mito</div> <script> if (window.commands.hasCommand('create-mitosheet-from-dataframe-output')) document.getElementById('145f491c-4509-4720-9ae9-c169dee90335').style.display = 'flex' </script> <table border=\"1\" class=\"dataframe\">\n",
       "  <thead>\n",
       "    <tr style=\"text-align: right;\">\n",
       "      <th></th>\n",
       "      <th>PassengerId</th>\n",
       "      <th>Pclass</th>\n",
       "      <th>Sex</th>\n",
       "      <th>Age</th>\n",
       "      <th>SibSp</th>\n",
       "      <th>Parch</th>\n",
       "      <th>Fare</th>\n",
       "      <th>Embarked</th>\n",
       "    </tr>\n",
       "  </thead>\n",
       "  <tbody>\n",
       "    <tr>\n",
       "      <th>0</th>\n",
       "      <td>892</td>\n",
       "      <td>3</td>\n",
       "      <td>male</td>\n",
       "      <td>34.5</td>\n",
       "      <td>0</td>\n",
       "      <td>0</td>\n",
       "      <td>7.8292</td>\n",
       "      <td>Q</td>\n",
       "    </tr>\n",
       "    <tr>\n",
       "      <th>1</th>\n",
       "      <td>893</td>\n",
       "      <td>3</td>\n",
       "      <td>female</td>\n",
       "      <td>47.0</td>\n",
       "      <td>1</td>\n",
       "      <td>0</td>\n",
       "      <td>7.0000</td>\n",
       "      <td>S</td>\n",
       "    </tr>\n",
       "    <tr>\n",
       "      <th>2</th>\n",
       "      <td>894</td>\n",
       "      <td>2</td>\n",
       "      <td>male</td>\n",
       "      <td>62.0</td>\n",
       "      <td>0</td>\n",
       "      <td>0</td>\n",
       "      <td>9.6875</td>\n",
       "      <td>Q</td>\n",
       "    </tr>\n",
       "    <tr>\n",
       "      <th>3</th>\n",
       "      <td>895</td>\n",
       "      <td>3</td>\n",
       "      <td>male</td>\n",
       "      <td>27.0</td>\n",
       "      <td>0</td>\n",
       "      <td>0</td>\n",
       "      <td>8.6625</td>\n",
       "      <td>S</td>\n",
       "    </tr>\n",
       "    <tr>\n",
       "      <th>4</th>\n",
       "      <td>896</td>\n",
       "      <td>3</td>\n",
       "      <td>female</td>\n",
       "      <td>22.0</td>\n",
       "      <td>1</td>\n",
       "      <td>1</td>\n",
       "      <td>12.2875</td>\n",
       "      <td>S</td>\n",
       "    </tr>\n",
       "  </tbody>\n",
       "</table></div>"
      ],
      "text/plain": [
       "   PassengerId  Pclass     Sex   Age  SibSp  Parch     Fare Embarked\n",
       "0          892       3    male  34.5      0      0   7.8292        Q\n",
       "1          893       3  female  47.0      1      0   7.0000        S\n",
       "2          894       2    male  62.0      0      0   9.6875        Q\n",
       "3          895       3    male  27.0      0      0   8.6625        S\n",
       "4          896       3  female  22.0      1      1  12.2875        S"
      ]
     },
     "execution_count": 18,
     "metadata": {},
     "output_type": "execute_result"
    }
   ],
   "source": [
    "df3.head()"
   ]
  },
  {
   "cell_type": "code",
   "execution_count": 19,
   "id": "58f51889-74f4-4ff7-b32e-177c9cd75572",
   "metadata": {},
   "outputs": [
    {
     "data": {
      "text/html": [
       "<iframe\n",
       "    scrolling=\"no\"\n",
       "    width=\"100%\"\n",
       "    height=\"545px\"\n",
       "    src=\"iframe_figures/figure_19.html\"\n",
       "    frameborder=\"0\"\n",
       "    allowfullscreen\n",
       "></iframe>\n"
      ]
     },
     "metadata": {},
     "output_type": "display_data"
    }
   ],
   "source": [
    "# For fare data, it seems the value is right skewed\n",
    "# We will proceed with log tranformation\n",
    "# Import plotly and create a figure\n",
    "import plotly.graph_objects as go\n",
    "fig = go.Figure()\n",
    "\n",
    "\n",
    "# Add the histogram traces to the figure\n",
    "for column_header in ['Fare']:\n",
    "    fig.add_trace(go.Histogram(x=df1[column_header], name=column_header))\n",
    "\n",
    "# Update the layout\n",
    "# See Plotly documentation for customizations: https://plotly.com/python/reference/histogram/\n",
    "fig.update_layout(\n",
    "\txaxis_title='Fare',\n",
    "    title='Fare frequencies',\n",
    "    barmode='group'\n",
    ")\n",
    "fig.show(renderer=\"iframe\")"
   ]
  },
  {
   "cell_type": "code",
   "execution_count": 20,
   "id": "8cd66c85-8663-404f-ae29-130c006c3b6f",
   "metadata": {},
   "outputs": [
    {
     "name": "stderr",
     "output_type": "stream",
     "text": [
      "C:\\Users\\Darknman\\anaconda3\\lib\\site-packages\\pandas\\core\\arraylike.py:364: RuntimeWarning:\n",
      "\n",
      "divide by zero encountered in log\n",
      "\n"
     ]
    }
   ],
   "source": [
    "df3[\"Fare_log\"] = np.log(df3['Fare'])"
   ]
  },
  {
   "cell_type": "code",
   "execution_count": 22,
   "id": "d7c56d33-83ca-463e-a25c-03777a2d144d",
   "metadata": {},
   "outputs": [],
   "source": [
    "# Proceed remove outliners and non numerical values in Fare_log\n",
    "df3[\"Fare_log\"].replace([np.inf, -np.inf], np.nan, inplace=True)\n",
    "df3[\"Fare_log\"].fillna(df3[\"Fare_log\"].median(), inplace=True)\n",
    "df4 = df3.copy()"
   ]
  },
  {
   "cell_type": "code",
   "execution_count": 23,
   "id": "772ec64f-29fa-4dd3-a50c-d0613bd1f0a7",
   "metadata": {},
   "outputs": [
    {
     "name": "stdout",
     "output_type": "stream",
     "text": [
      "Empty DataFrame\n",
      "Columns: [PassengerId, Pclass, Sex, Age, SibSp, Parch, Fare, Embarked, Fare_log]\n",
      "Index: []\n",
      "Empty DataFrame\n",
      "Columns: [PassengerId, Pclass, Sex, Age, SibSp, Parch, Fare, Embarked, Fare_log]\n",
      "Index: []\n",
      "Empty DataFrame\n",
      "Columns: [PassengerId, Pclass, Sex, Age, SibSp, Parch, Fare, Embarked, Fare_log]\n",
      "Index: []\n",
      "Empty DataFrame\n",
      "Columns: [PassengerId, Pclass, Sex, Age, SibSp, Parch, Fare, Embarked, Fare_log]\n",
      "Index: []\n",
      "Empty DataFrame\n",
      "Columns: [PassengerId, Pclass, Sex, Age, SibSp, Parch, Fare, Embarked, Fare_log]\n",
      "Index: []\n",
      "Empty DataFrame\n",
      "Columns: [PassengerId, Pclass, Sex, Age, SibSp, Parch, Fare, Embarked, Fare_log]\n",
      "Index: []\n",
      "Empty DataFrame\n",
      "Columns: [PassengerId, Pclass, Sex, Age, SibSp, Parch, Fare, Embarked, Fare_log]\n",
      "Index: []\n",
      "Empty DataFrame\n",
      "Columns: [PassengerId, Pclass, Sex, Age, SibSp, Parch, Fare, Embarked, Fare_log]\n",
      "Index: []\n"
     ]
    }
   ],
   "source": [
    "#Check if all columns data are in right datatype\n",
    "print(df4[df4['Pclass'].apply(lambda x: type(x) == str)])\n",
    "print(df4[df4['Sex'].apply(lambda x: type(x) != str)])\n",
    "print(df4[df4['Age'].apply(lambda x: type(x) == str)])\n",
    "print(df4[df4['SibSp'].apply(lambda x: type(x) == str)])\n",
    "print(df4[df4['Parch'].apply(lambda x: type(x) == str)])\n",
    "print(df4[df4['Fare'].apply(lambda x: type(x) == str)])\n",
    "print(df4[df4['Embarked'].apply(lambda x: type(x) != str)])\n",
    "print(df4[df4['Fare_log'].apply(lambda x: type(x) == str)])"
   ]
  },
  {
   "cell_type": "code",
   "execution_count": 26,
   "id": "e3797863-fc6a-460f-9d36-ba0f505a6ec3",
   "metadata": {},
   "outputs": [],
   "source": [
    "# Convert categorical variables to numerical variables\n",
    "# Ordinal Encoding (Retain all orders)\n",
    "enc = OrdinalEncoder()\n",
    "enc.fit(df4[[\"Sex\",\"Embarked\"]])\n",
    "df4[[\"Sex\",\"Embarked\"]] = enc.transform(df4[[\"Sex\",\"Embarked\"]])"
   ]
  },
  {
   "cell_type": "code",
   "execution_count": 122,
   "id": "ea28c852-8e03-4a67-8976-0d55e86ea34a",
   "metadata": {},
   "outputs": [],
   "source": [
    "# Save the csv file\n",
    "df4.to_csv('titanic_test_fe.csv', index=False)"
   ]
  }
 ],
 "metadata": {
  "kernelspec": {
   "display_name": "Python 3 (ipykernel)",
   "language": "python",
   "name": "python3"
  },
  "language_info": {
   "codemirror_mode": {
    "name": "ipython",
    "version": 3
   },
   "file_extension": ".py",
   "mimetype": "text/x-python",
   "name": "python",
   "nbconvert_exporter": "python",
   "pygments_lexer": "ipython3",
   "version": "3.8.11"
  }
 },
 "nbformat": 4,
 "nbformat_minor": 5
}
